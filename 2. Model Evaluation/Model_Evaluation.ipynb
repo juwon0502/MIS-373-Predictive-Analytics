{
  "nbformat": 4,
  "nbformat_minor": 0,
  "metadata": {
    "colab": {
      "name": "Model Evaluation.ipynb",
      "provenance": []
    },
    "kernelspec": {
      "name": "python3",
      "display_name": "Python 3"
    },
    "language_info": {
      "name": "python"
    }
  },
  "cells": [
    {
      "cell_type": "markdown",
      "source": [
        "## Import Libraries"
      ],
      "metadata": {
        "id": "GXiu4l_dmwav"
      }
    },
    {
      "cell_type": "code",
      "source": [
        "!pip install liac-arff"
      ],
      "metadata": {
        "colab": {
          "base_uri": "https://localhost:8080/"
        },
        "id": "GiWWe3OQm1qI",
        "outputId": "0cbecdc0-dc92-4954-8880-08b7838420a9"
      },
      "execution_count": 2,
      "outputs": [
        {
          "output_type": "stream",
          "name": "stdout",
          "text": [
            "Collecting liac-arff\n",
            "  Downloading liac-arff-2.5.0.tar.gz (13 kB)\n",
            "Building wheels for collected packages: liac-arff\n",
            "  Building wheel for liac-arff (setup.py) ... \u001b[?25l\u001b[?25hdone\n",
            "  Created wheel for liac-arff: filename=liac_arff-2.5.0-py3-none-any.whl size=11732 sha256=468a82f7031e348b06473db4492117342d50d42f08499a5803261908d0abc2ef\n",
            "  Stored in directory: /root/.cache/pip/wheels/1f/0f/15/332ca86cbebf25ddf98518caaf887945fbe1712b97a0f2493b\n",
            "Successfully built liac-arff\n",
            "Installing collected packages: liac-arff\n",
            "Successfully installed liac-arff-2.5.0\n"
          ]
        }
      ]
    },
    {
      "cell_type": "code",
      "source": [
        "import pandas as pd\n",
        "import numpy as np\n",
        "import arff\n",
        "from matplotlib import pyplot as plt\n",
        "from sklearn import tree\n",
        "from sklearn.tree import DecisionTreeClassifier\n",
        "from sklearn.metrics import accuracy_score\n",
        "from sklearn.model_selection import train_test_split\n",
        "from sklearn.model_selection import cross_val_score\n",
        "from sklearn.feature_selection import mutual_info_classif\n",
        "from sklearn.metrics import accuracy_score, recall_score, precision_score, confusion_matrix, ConfusionMatrixDisplay\n",
        "import requests"
      ],
      "metadata": {
        "id": "4c__rTtNmx6o"
      },
      "execution_count": 33,
      "outputs": []
    },
    {
      "cell_type": "markdown",
      "source": [
        "## Import Data"
      ],
      "metadata": {
        "id": "nfWLkVaEmwYC"
      }
    },
    {
      "cell_type": "code",
      "source": [
        "# get data from online\n",
        "training_arff = requests.get('https://raw.githubusercontent.com/juwon0502/MIS-373-Predictive-Analytics/master/datasets/bank-training.arff')\n",
        "testing_arff = requests.get('https://raw.githubusercontent.com/juwon0502/MIS-373-Predictive-Analytics/master/datasets/bank-NewCustomers.arff')\n",
        "\n",
        "# read as arff file\n",
        "training_arff = arff.load(training_arff.text)\n",
        "testing_arff = arff.load(testing_arff.text)\n",
        "col_val = [attribute[0] for attribute in training_arff['attributes']]\n",
        "\n",
        "# transform arff file into pandas dataframe\n",
        "training_df = pd.DataFrame(training_arff['data'], columns = col_val)\n",
        "testing_df = pd.DataFrame(testing_arff['data'], columns = col_val)\n",
        "meta = training_arff['attributes']\n",
        "\n",
        "def clean_df(df):\n",
        "  cols = list(df.columns)\n",
        "  for col in cols:\n",
        "    try:\n",
        "      df = df.replace({col: {'YES': True, 'NO': False}})\n",
        "    except:\n",
        "      pass\n",
        "    pass\n",
        "  return df\n",
        "\n",
        "training_df = clean_df(training_df)\n",
        "training_df_dummy = pd.get_dummies(training_df)\n",
        "testing_df_dummy = pd.get_dummies(clean_df(testing_df))"
      ],
      "metadata": {
        "id": "eo5YvKzpoQIU"
      },
      "execution_count": 4,
      "outputs": []
    },
    {
      "cell_type": "markdown",
      "source": [
        "## Sample Model"
      ],
      "metadata": {
        "id": "A7djIBYlBTsS"
      }
    },
    {
      "cell_type": "code",
      "source": [
        "X = training_df_dummy.drop(columns = ['pep'])\n",
        "y = training_df_dummy.pep\n",
        "model = DecisionTreeClassifier(criterion = 'entropy', max_depth = 5).fit(X, y)"
      ],
      "metadata": {
        "id": "iSIUifR1BWIT"
      },
      "execution_count": 5,
      "outputs": []
    },
    {
      "cell_type": "markdown",
      "source": [
        "## Classification Accuracy Rate"
      ],
      "metadata": {
        "id": "FllJvyLaBO8J"
      }
    },
    {
      "cell_type": "code",
      "source": [
        "# Using training data\n",
        "\n",
        "prediction = model.predict(X)\n",
        "print(accuracy_score(y, prediction))"
      ],
      "metadata": {
        "colab": {
          "base_uri": "https://localhost:8080/"
        },
        "id": "dvwWEh3EBOny",
        "outputId": "09de3108-795f-43c2-8a6e-8e8f0320e515"
      },
      "execution_count": 6,
      "outputs": [
        {
          "output_type": "stream",
          "name": "stdout",
          "text": [
            "0.8683333333333333\n"
          ]
        }
      ]
    },
    {
      "cell_type": "code",
      "source": [
        "# Uncomment to see prediction and true values\n",
        "\n",
        "# print()\n",
        "# print(\"Num. Prediction, True, Correct\")\n",
        "# for i in range(len(prediction)):\n",
        "#   print(f\"{i}. {prediction[i]}, {y[i]}, {prediction[i] == y[i]}\")"
      ],
      "metadata": {
        "id": "76mrkNBxDrn9"
      },
      "execution_count": 7,
      "outputs": []
    },
    {
      "cell_type": "code",
      "source": [
        "# Using out of sample data\n",
        "\n",
        "X_test = testing_df_dummy.drop(columns = ['pep'])\n",
        "y_test = testing_df_dummy.pep\n",
        "test_prediction = model.predict(X_test)\n",
        "print(accuracy_score(y_test, test_prediction))"
      ],
      "metadata": {
        "colab": {
          "base_uri": "https://localhost:8080/"
        },
        "id": "yLRXQNbYDx28",
        "outputId": "ed745c16-6c42-4c63-8d73-db524d211fb1"
      },
      "execution_count": 8,
      "outputs": [
        {
          "output_type": "stream",
          "name": "stdout",
          "text": [
            "0.715\n"
          ]
        }
      ]
    },
    {
      "cell_type": "markdown",
      "source": [
        "## Train Test Split"
      ],
      "metadata": {
        "id": "4CmFIhwQELqi"
      }
    },
    {
      "cell_type": "markdown",
      "source": [
        "Model A is the whole data set.\n",
        "Model B is \"training split\" (2/3 of data set)"
      ],
      "metadata": {
        "id": "XfO4vZCREVx4"
      }
    },
    {
      "cell_type": "code",
      "source": [
        "X_A = training_df_dummy.drop(columns = ['pep'])\n",
        "y_A = training_df_dummy.pep\n",
        "X_B_train, X_B_test, y_B_train, y_B_test = train_test_split(X_A, y_A, test_size=0.33)"
      ],
      "metadata": {
        "id": "hW2b9jvWELSS"
      },
      "execution_count": 9,
      "outputs": []
    },
    {
      "cell_type": "code",
      "source": [
        "A_model = DecisionTreeClassifier(criterion='entropy', max_depth=5).fit(X_A, y_A)\n",
        "B_model = DecisionTreeClassifier(criterion='entropy', max_depth=5).fit(X_B_train, y_B_train)\n",
        "\n",
        "print(\"Model A:\", accuracy_score(y_A, A_model.predict(X_A)))\n",
        "print(\"Model B:\", accuracy_score(y_B_test, B_model.predict(X_B_test)))"
      ],
      "metadata": {
        "colab": {
          "base_uri": "https://localhost:8080/"
        },
        "id": "zIpiHq81EvmO",
        "outputId": "e1b88e57-e3a2-41a7-fb14-f18fb930b7dc"
      },
      "execution_count": 10,
      "outputs": [
        {
          "output_type": "stream",
          "name": "stdout",
          "text": [
            "Model A: 0.8683333333333333\n",
            "Model B: 0.7828282828282829\n"
          ]
        }
      ]
    },
    {
      "cell_type": "markdown",
      "source": [
        "## Cross Validation"
      ],
      "metadata": {
        "id": "N_oljc-NFbLw"
      }
    },
    {
      "cell_type": "code",
      "source": [
        "scores = cross_val_score(model, X, y, cv = 200)\n",
        "print(scores.mean())"
      ],
      "metadata": {
        "colab": {
          "base_uri": "https://localhost:8080/"
        },
        "id": "dCqHuPytG9iz",
        "outputId": "3a83d280-2002-42fe-8659-da0f32c08f13"
      },
      "execution_count": 13,
      "outputs": [
        {
          "output_type": "stream",
          "name": "stdout",
          "text": [
            "0.8433333333333334\n"
          ]
        }
      ]
    },
    {
      "cell_type": "markdown",
      "source": [
        "## Pruning"
      ],
      "metadata": {
        "id": "rtoL6dOaHwbM"
      }
    },
    {
      "cell_type": "code",
      "source": [
        "X_train, X_test, y_train, y_test = train_test_split(X, y, test_size=0.33)\n",
        "\n",
        "for depth in reversed(range(2,11)):\n",
        "  temp_model = DecisionTreeClassifier(criterion = 'entropy', max_depth=depth).fit(X_train, y_train)\n",
        "  print(f\"{depth}: Training: {accuracy_score(y_test, temp_model.predict(X_test))}, CV: {(cross_val_score(temp_model, X, y, cv = 10)).mean()}\")"
      ],
      "metadata": {
        "colab": {
          "base_uri": "https://localhost:8080/"
        },
        "id": "5plumqv_Hx0Z",
        "outputId": "91f37daf-6402-45ab-dfd1-5d4f6d7f79e4"
      },
      "execution_count": 25,
      "outputs": [
        {
          "output_type": "stream",
          "name": "stdout",
          "text": [
            "10: Training: 0.8585858585858586, CV: 0.8316666666666668\n",
            "9: Training: 0.8888888888888888, CV: 0.8316666666666668\n",
            "8: Training: 0.8787878787878788, CV: 0.8466666666666667\n",
            "7: Training: 0.8636363636363636, CV: 0.8633333333333335\n",
            "6: Training: 0.8434343434343434, CV: 0.8666666666666666\n",
            "5: Training: 0.8434343434343434, CV: 0.8433333333333334\n",
            "4: Training: 0.8434343434343434, CV: 0.8283333333333334\n",
            "3: Training: 0.702020202020202, CV: 0.7366666666666666\n",
            "2: Training: 0.6464646464646465, CV: 0.5933333333333334\n"
          ]
        }
      ]
    },
    {
      "cell_type": "code",
      "source": [
        "min_leaves_model = DecisionTreeClassifier(criterion = 'entropy', min_samples_leaf = 5).fit(X, y)\n",
        "print(accuracy_score(y, min_leaves_model.predict(X)))"
      ],
      "metadata": {
        "colab": {
          "base_uri": "https://localhost:8080/"
        },
        "id": "AzI2kNxzJXRz",
        "outputId": "f7a1cc3b-00e3-4719-c2c6-3983c798b1df"
      },
      "execution_count": 27,
      "outputs": [
        {
          "output_type": "stream",
          "name": "stdout",
          "text": [
            "0.92\n"
          ]
        }
      ]
    },
    {
      "cell_type": "code",
      "source": [
        "X_train, X_test, y_train, y_test = train_test_split(X, y, test_size=0.33)\n",
        "\n",
        "for leaves in reversed(range(2,11)):\n",
        "  temp_model = DecisionTreeClassifier(criterion = 'entropy', min_samples_leaf=leaves).fit(X_train, y_train)\n",
        "  print(f\"{leaves}: Training: {accuracy_score(y_test, temp_model.predict(X_test))}, CV: {(cross_val_score(temp_model, X, y, cv = 10)).mean()}\")"
      ],
      "metadata": {
        "colab": {
          "base_uri": "https://localhost:8080/"
        },
        "id": "V7S0zL5aJrqt",
        "outputId": "43de0c2e-b160-4af3-99ce-afcd7e2f004e"
      },
      "execution_count": 31,
      "outputs": [
        {
          "output_type": "stream",
          "name": "stdout",
          "text": [
            "10: Training: 0.803030303030303, CV: 0.8766666666666666\n",
            "9: Training: 0.8383838383838383, CV: 0.875\n",
            "8: Training: 0.8333333333333334, CV: 0.8800000000000001\n",
            "7: Training: 0.8333333333333334, CV: 0.86\n",
            "6: Training: 0.8535353535353535, CV: 0.8633333333333333\n",
            "5: Training: 0.8383838383838383, CV: 0.865\n",
            "4: Training: 0.8181818181818182, CV: 0.845\n",
            "3: Training: 0.7878787878787878, CV: 0.85\n",
            "2: Training: 0.803030303030303, CV: 0.8466666666666667\n"
          ]
        }
      ]
    },
    {
      "cell_type": "markdown",
      "source": [
        "## Precision/Recall"
      ],
      "metadata": {
        "id": "PtrIoBWvKv4T"
      }
    },
    {
      "cell_type": "code",
      "source": [
        "y_test = testing_df_dummy.pep\n",
        "X_test = testing_df_dummy.drop(columns=['pep'])\n",
        "\n",
        "model = DecisionTreeClassifier(criterion = 'entropy', min_samples_leaf = 7, max_depth = 6).fit(X_train, y_train)\n",
        "\n",
        "predictions = model.predict(X_test)"
      ],
      "metadata": {
        "id": "LZStRdqmLa4C"
      },
      "execution_count": 42,
      "outputs": []
    },
    {
      "cell_type": "code",
      "source": [
        "cm = confusion_matrix(y_test, predictions, labels=model.classes_)\n",
        "disp = ConfusionMatrixDisplay(confusion_matrix=cm, display_labels=model.classes_)\n",
        "disp.plot()\n",
        "plt.show()"
      ],
      "metadata": {
        "colab": {
          "base_uri": "https://localhost:8080/",
          "height": 279
        },
        "id": "DU2p8JAeKx4f",
        "outputId": "ca07114e-0b9b-4b0c-e180-e41f923aed61"
      },
      "execution_count": 43,
      "outputs": [
        {
          "output_type": "display_data",
          "data": {
            "image/png": "[encoded data removed]",
            "text/plain": [
              "<Figure size 432x288 with 2 Axes>"
            ]
          },
          "metadata": {
            "needs_background": "light"
          }
        }
      ]
    },
    {
      "cell_type": "code",
      "source": [
        "print(\"Precision:\", precision_score(y_test, predictions))\n",
        "print(\"Recall:\", recall_score(y_test, predictions))"
      ],
      "metadata": {
        "colab": {
          "base_uri": "https://localhost:8080/"
        },
        "id": "i2hvqnUlMCuW",
        "outputId": "0fbe77b2-e1fd-4147-b2ba-bf2bb8b84fe7"
      },
      "execution_count": 45,
      "outputs": [
        {
          "output_type": "stream",
          "name": "stdout",
          "text": [
            "Precision: 0.7\n",
            "Recall: 0.28\n"
          ]
        }
      ]
    },
    {
      "cell_type": "markdown",
      "source": [
        "## Cost Sensitivity\n"
      ],
      "metadata": {
        "id": "CWRUImjKKS2F"
      }
    },
    {
      "cell_type": "markdown",
      "source": [
        "## Information Gain/Mutual Informaiton"
      ],
      "metadata": {
        "id": "M4SVqFFamwVz"
      }
    },
    {
      "cell_type": "code",
      "source": [
        "mi = list(mutual_info_classif(training_df_dummy.drop(columns = ['pep']), training_df_dummy.pep))\n",
        "for m in mi:\n",
        "  print(m)"
      ],
      "metadata": {
        "colab": {
          "base_uri": "https://localhost:8080/"
        },
        "id": "n1llNno9pCdG",
        "outputId": "dd930f4f-a123-4599-c5ef-86b1c007d532"
      },
      "execution_count": null,
      "outputs": [
        {
          "output_type": "stream",
          "name": "stdout",
          "text": [
            "0.007366812743496043\n",
            "0.0018936945902052749\n",
            "0.0\n",
            "0.06965876253465408\n",
            "0.0\n",
            "0.016229845028548073\n",
            "0.0\n",
            "0.026581900724257146\n",
            "0.012365151851355005\n",
            "0.014765620930978551\n",
            "0.034349097780153715\n",
            "0.0\n",
            "0.0\n",
            "0.0016275168012200858\n"
          ]
        }
      ]
    },
    {
      "cell_type": "markdown",
      "source": [
        ""
      ],
      "metadata": {
        "id": "ldAPWYMUmwS9"
      }
    },
    {
      "cell_type": "markdown",
      "source": [
        ""
      ],
      "metadata": {
        "id": "g1jE3nj6mwOR"
      }
    },
    {
      "cell_type": "markdown",
      "source": [
        ""
      ],
      "metadata": {
        "id": "txc9EgO3mwBZ"
      }
    }
  ]
}