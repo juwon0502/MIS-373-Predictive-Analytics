{
  "nbformat": 4,
  "nbformat_minor": 0,
  "metadata": {
    "colab": {
      "name": "Ensemble Models.ipynb",
      "provenance": []
    },
    "kernelspec": {
      "name": "python3",
      "display_name": "Python 3"
    },
    "language_info": {
      "name": "python"
    }
  },
  "cells": [
    {
      "cell_type": "markdown",
      "source": [
        "# Bagging Models"
      ],
      "metadata": {
        "id": "qcpjcmLnndVn"
      }
    },
    {
      "cell_type": "markdown",
      "source": [
        "### Import Libraries"
      ],
      "metadata": {
        "id": "zLrimzAMneDX"
      }
    },
    {
      "cell_type": "code",
      "source": [
        "!pip install liac-arff"
      ],
      "metadata": {
        "colab": {
          "base_uri": "https://localhost:8080/"
        },
        "id": "YlmKkSz-n6tr",
        "outputId": "c42ef544-64ee-4dce-edc5-ea0c41d2782e"
      },
      "execution_count": 1,
      "outputs": [
        {
          "output_type": "stream",
          "name": "stdout",
          "text": [
            "Collecting liac-arff\n",
            "  Downloading liac-arff-2.5.0.tar.gz (13 kB)\n",
            "Building wheels for collected packages: liac-arff\n",
            "  Building wheel for liac-arff (setup.py) ... \u001b[?25l\u001b[?25hdone\n",
            "  Created wheel for liac-arff: filename=liac_arff-2.5.0-py3-none-any.whl size=11731 sha256=3c150117f41df3b29112434dc48032a3ef55083290267a50d930376445e4ea67\n",
            "  Stored in directory: /root/.cache/pip/wheels/1f/0f/15/332ca86cbebf25ddf98518caaf887945fbe1712b97a0f2493b\n",
            "Successfully built liac-arff\n",
            "Installing collected packages: liac-arff\n",
            "Successfully installed liac-arff-2.5.0\n"
          ]
        }
      ]
    },
    {
      "cell_type": "code",
      "source": [
        "import pandas as pd\n",
        "import numpy as np\n",
        "import arff\n",
        "from matplotlib import pyplot as plt\n",
        "from sklearn import tree\n",
        "from sklearn.ensemble import BaggingClassifier\n",
        "from sklearn.ensemble import RandomForestClassifier\n",
        "from sklearn.tree import plot_tree, export_text, DecisionTreeClassifier\n",
        "from sklearn.model_selection import train_test_split, cross_val_score\n",
        "from sklearn.metrics import plot_confusion_matrix, plot_roc_curve, accuracy_score\n",
        "import requests"
      ],
      "metadata": {
        "id": "0iuqNwOLn0vN"
      },
      "execution_count": 26,
      "outputs": []
    },
    {
      "cell_type": "markdown",
      "source": [
        "### Import Data"
      ],
      "metadata": {
        "id": "N8z6x49yneJ2"
      }
    },
    {
      "cell_type": "code",
      "source": [
        "hr_arff = requests.get('https://raw.githubusercontent.com/juwon0502/MIS-373-Predictive-Analytics/master/datasets/HR_employee_attrition.arff')\n",
        "hr_arff = arff.load(hr_arff.text)\n",
        "col_val = [attribute[0] for attribute in hr_arff['attributes']]\n",
        "hr_df = pd.DataFrame(hr_arff['data'], columns = col_val)\n",
        "meta = hr_arff['attributes']"
      ],
      "metadata": {
        "id": "Z1jytjVDn4wW"
      },
      "execution_count": 36,
      "outputs": []
    },
    {
      "cell_type": "code",
      "source": [
        "def clean_df(df):\n",
        "  cols = list(df.columns)\n",
        "  for col in cols:\n",
        "    try:\n",
        "      df = df.replace({col: {'Yes': 1, 'No': 0}})\n",
        "    except:\n",
        "      pass\n",
        "  return df\n",
        "\n",
        "hr_df = clean_df(hr_df)\n",
        "hr_df_dummies = pd.get_dummies(hr_df)"
      ],
      "metadata": {
        "id": "AbqfLQc0pO65"
      },
      "execution_count": 37,
      "outputs": []
    },
    {
      "cell_type": "markdown",
      "source": [
        "### Visualize Attributes"
      ],
      "metadata": {
        "id": "J11YU91kneM8"
      }
    },
    {
      "cell_type": "code",
      "source": [
        "def display_attribute(df, meta, col_name):\n",
        "  pep = df.loc[df['Attrition'] == 1]\n",
        "  pep_col_name = []\n",
        "  no_pep_col_name = []\n",
        "  if type(meta[col_val.index(col_name)][1]) == list:\n",
        "    labels = meta[col_val.index(col_name)][1]\n",
        "    for label in labels:\n",
        "      no_pep_col_name.append(len(df.loc[df[col_name] == label]))\n",
        "      pep_col_name.append(len(pep.loc[pep[col_name] == label]))\n",
        "\n",
        "  else:\n",
        "    labels = []\n",
        "    min_val = int(min(df[col_name]))\n",
        "    max_val = int(max(df[col_name]))\n",
        "    rg = max_val - min_val\n",
        "    if rg < 12:\n",
        "      for x in range(min_val, max_val + 1):\n",
        "        no_pep_col_name.append(len(df.loc[df[col_name] == x]))\n",
        "        pep_col_name.append(len(pep.loc[pep[col_name] == x]))\n",
        "        labels.append(x)\n",
        "    else:\n",
        "      for y in range(min_val, max_val, (rg//8)):\n",
        "        no_pep_col_name.append(len(df.loc[df[col_name].between(y, y + (rg//8))]))\n",
        "        pep_col_name.append(len(pep.loc[pep[col_name].between(y, y + (rg//8))]))\n",
        "        labels.append(f\"{y}-{y+(rg//8-1)}\")\n",
        "\n",
        "  if type(labels[0]) != str:\n",
        "    labels = [str(label) for label in labels]\n",
        "  plt.figure(dpi = 150)\n",
        "  plt.bar(labels, no_pep_col_name, label = 'No attrition')\n",
        "  plt.bar(labels, pep_col_name, label = 'Yes attrition')\n",
        "  plt.legend()\n",
        "  plt.title(f'{col_name} distribution')\n",
        "  plt.show()"
      ],
      "metadata": {
        "id": "KLaO3ulfo5r7"
      },
      "execution_count": 15,
      "outputs": []
    },
    {
      "cell_type": "code",
      "source": [
        "display_attribute(hr_df, meta, 'Department') # Change third parameter to change attribute"
      ],
      "metadata": {
        "id": "x1alNLnmo_Zr"
      },
      "execution_count": null,
      "outputs": []
    },
    {
      "cell_type": "markdown",
      "source": [
        "### Create Bagging Model"
      ],
      "metadata": {
        "id": "Nna1KJ0FneRG"
      }
    },
    {
      "cell_type": "code",
      "source": [
        "X = hr_df_dummies.drop(columns=['Attrition'])\n",
        "y = hr_df_dummies.Attrition\n",
        "clf = tree.DecisionTreeClassifier(criterion = 'entropy', max_depth = 5)\n",
        "n_estimators = int(input(\"Number of estimators \"))\n",
        "bagging_model = BaggingClassifier(base_estimator=clf, n_estimators=n_estimators, random_state=0).fit(X, y)"
      ],
      "metadata": {
        "colab": {
          "base_uri": "https://localhost:8080/"
        },
        "id": "p3heqP6gp_0f",
        "outputId": "1276a7cc-e309-481b-8c01-f5f5deaaf4b2"
      },
      "execution_count": 38,
      "outputs": [
        {
          "name": "stdout",
          "output_type": "stream",
          "text": [
            "Number of estimators 15\n"
          ]
        }
      ]
    },
    {
      "cell_type": "markdown",
      "source": [
        "### Create Random Forest Model"
      ],
      "metadata": {
        "id": "DXhIRAKTnebB"
      }
    },
    {
      "cell_type": "code",
      "source": [
        "X = hr_df_dummies.drop(columns=['Attrition'])\n",
        "y = hr_df_dummies.Attrition\n",
        "max_features = int(input(\"How many features (between 4-6)? \"))\n",
        "random_forest_model = RandomForestClassifier(criterion = 'entropy', max_features = max_features).fit(X,y)"
      ],
      "metadata": {
        "colab": {
          "base_uri": "https://localhost:8080/"
        },
        "id": "ddYnCse-p2OV",
        "outputId": "9a335741-d41f-4392-a002-9bff5de0ec7a"
      },
      "execution_count": 39,
      "outputs": [
        {
          "name": "stdout",
          "output_type": "stream",
          "text": [
            "How many features (between 4-6)? 5\n"
          ]
        }
      ]
    },
    {
      "cell_type": "markdown",
      "source": [
        "### Evaluation"
      ],
      "metadata": {
        "id": "qypVppajneiM"
      }
    },
    {
      "cell_type": "code",
      "source": [
        "bagging_scores = cross_val_score(bagging_model, X, y, cv=10)\n",
        "bagging_accuracy = bagging_scores.mean()\n",
        "# std = bagging_scores.std()\n",
        "# print(f\"#### {round(scores.mean(),4)} accuracy with a standard deviation of {round(scores.std(),4)}\")"
      ],
      "metadata": {
        "id": "SZsDbNlMqcet"
      },
      "execution_count": 40,
      "outputs": []
    },
    {
      "cell_type": "code",
      "source": [
        "rf_scores = cross_val_score(random_forest_model, X, y, cv=10)\n",
        "rf_accuracy = rf_scores.mean()\n",
        "# std = rf_scores.std()\n",
        "# print(f\"#### {round(scores.mean(),4)} accuracy with a standard deviation of {round(scores.std(),4)}\")"
      ],
      "metadata": {
        "id": "uVnfBrGhqhF3"
      },
      "execution_count": 41,
      "outputs": []
    },
    {
      "cell_type": "code",
      "source": [
        "dt_model = DecisionTreeClassifier(criterion='entropy').fit(X,y)\n",
        "dt_scores = cross_val_score(dt_model, X, y, cv=10)\n",
        "dt_accuracy = dt_scores.mean()\n",
        "# stf = dt_scores.std()\n",
        "# print(f\"#### {round(scores.mean(),4)} accuracy with a standard deviation of {round(scores.std(),4)}\")"
      ],
      "metadata": {
        "id": "aDGQaFkVqlv4"
      },
      "execution_count": 54,
      "outputs": []
    },
    {
      "cell_type": "code",
      "source": [
        "print(f\"Bagging: {round(bagging_accuracy,4)}\")\n",
        "print(f\"Random Forest: {round(rf_accuracy,4)}\")\n",
        "print(f\"Decision Tree: {round(dt_accuracy,4)}\")"
      ],
      "metadata": {
        "colab": {
          "base_uri": "https://localhost:8080/"
        },
        "id": "K58iuVVorFe-",
        "outputId": "c1a0761d-88ba-4f9c-a92e-b2a0290c5133"
      },
      "execution_count": 55,
      "outputs": [
        {
          "output_type": "stream",
          "name": "stdout",
          "text": [
            "Bagging: 0.8558\n",
            "Random Forest: 0.8578\n",
            "Decision Tree: 0.7878\n"
          ]
        }
      ]
    },
    {
      "cell_type": "code",
      "source": [
        ""
      ],
      "metadata": {
        "id": "kGol_e6SsW2w"
      },
      "execution_count": null,
      "outputs": []
    }
  ]
}