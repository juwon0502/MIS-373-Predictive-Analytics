{
 "cells": [
  {
   "cell_type": "markdown",
   "metadata": {},
   "source": [
    "1. Import Libraries"
   ]
  },
  {
   "cell_type": "code",
   "execution_count": null,
   "metadata": {},
   "outputs": [],
   "source": [
    "import pandas as pd\n",
    "import numpy as np\n",
    "from scipy.io import arff\n",
    "from matplotlib import pyplot as plt\n",
    "from sklearn import tree\n",
    "from sklearn.tree import plot_tree, export_text\n",
    "from sklearn.metrics import plot_confusion_matrix, plot_roc_curve, accuracy_score"
   ]
  },
  {
   "cell_type": "markdown",
   "metadata": {},
   "source": [
    "2. Read and Clean Data"
   ]
  },
  {
   "cell_type": "code",
   "execution_count": null,
   "metadata": {},
   "outputs": [],
   "source": [
    "training_arff = arff.loadarff('../datasets/bank-training.arff')\n",
    "testing_arff = arff.loadarff('../datasets/bank-NewCustomers.arff')\n",
    "training_df = pd.DataFrame(training_arff[0])\n",
    "testing_df = pd.DataFrame(testing_arff[0])\n",
    "meta = training_arff[1]"
   ]
  },
  {
   "cell_type": "code",
   "execution_count": null,
   "metadata": {},
   "outputs": [],
   "source": [
    "def clean_df(df):\n",
    "  # decode str values\n",
    "  cols = list(df.columns)\n",
    "  for col in cols:\n",
    "    try:\n",
    "      df[col] = df[col].str.decode('utf-8')\n",
    "    except:\n",
    "      df[col] = pd.to_numeric(df[col])\n",
    "      pass\n",
    "    try:\n",
    "      df = df.replace({col: {'YES': True, 'NO': False}})\n",
    "    except:\n",
    "      pass\n",
    "  # return pd.get_dummies(df)\n",
    "  return df\n",
    "\n",
    "training_df = clean_df(training_df)\n",
    "training_df_dummy = pd.get_dummies(training_df)\n",
    "testing_df_dummy = pd.get_dummies(clean_df(testing_df))"
   ]
  },
  {
   "cell_type": "code",
   "execution_count": null,
   "metadata": {},
   "outputs": [],
   "source": [
    "training_df"
   ]
  },
  {
   "cell_type": "markdown",
   "metadata": {},
   "source": []
  }
 ],
 "metadata": {
  "interpreter": {
   "hash": "63fd5069d213b44bf678585dea6b12cceca9941eaf7f819626cde1f2670de90d"
  },
  "kernelspec": {
   "display_name": "Python 3 (ipykernel)",
   "language": "python",
   "name": "python3"
  },
  "language_info": {
   "name": "python",
   "version": "3.8.1"
  }
 },
 "nbformat": 4,
 "nbformat_minor": 2
}
